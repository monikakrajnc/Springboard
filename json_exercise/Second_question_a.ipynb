{
 "cells": [
  {
   "cell_type": "code",
   "execution_count": 48,
   "metadata": {},
   "outputs": [],
   "source": [
    "# SECOND QUESTION\n",
    "# find the top 10 major project themes (using column 'mjtheme_namecode')"
   ]
  },
  {
   "cell_type": "code",
   "execution_count": 58,
   "metadata": {},
   "outputs": [],
   "source": [
    "# import libraries\n",
    "\n",
    "import pandas as pd\n",
    "import json \n",
    "from pandas.io.json import json_normalize\n",
    "import numpy as np\n",
    "import matplotlib.pyplot as plt"
   ]
  },
  {
   "cell_type": "code",
   "execution_count": 59,
   "metadata": {},
   "outputs": [],
   "source": [
    "# import data\n",
    "\n",
    "original_json_df = pd.read_json('data/world_bank_projects.json')"
   ]
  },
  {
   "cell_type": "code",
   "execution_count": 60,
   "metadata": {},
   "outputs": [],
   "source": [
    "# create a list with all different project themes from the 'mjtheme_namecode' column and \n",
    "# add 'count' element as a key:value pair, that represents the frequency for each project theme\n",
    "\n",
    "new_list = []\n",
    "count = 0\n",
    "\n",
    "# First go through all elements in 'mjtheme_namecode' column\n",
    "for entry in original_json_df['mjtheme_namecode']:\n",
    "    for sub_entry in entry:\n",
    "        check = 0\n",
    "        # if 'new_list' is empty, add the element 'sub_entry' and start count for that project theme\n",
    "        if len(new_list) == 0:\n",
    "            sub_entry['count'] = 1\n",
    "            new_list.append(sub_entry)\n",
    "        else:\n",
    "            # go through elements of the 'new_list'\n",
    "            for element in new_list:\n",
    "                # if both elements codes match\n",
    "                if sub_entry['code'] == element['code']:\n",
    "                    element['count'] += 1\n",
    "                    # if the name of the element in 'new_list' is empty and the name from the 'sub_entry' element is not\n",
    "                    if element['name'] == '' and sub_entry['name'] != '':\n",
    "                        # assaign element from 'new_list' the name the 'sub_entry' element\n",
    "                        element['name'] = sub_entry['name']\n",
    "                    check = 1\n",
    "            if check !=1:\n",
    "                sub_entry['count'] = 1\n",
    "                new_list.append(sub_entry)\n",
    "\n",
    "#print(new_list)"
   ]
  },
  {
   "cell_type": "code",
   "execution_count": 52,
   "metadata": {},
   "outputs": [],
   "source": [
    "# in 'new_list' sort elements by count in descending order\n",
    "\n",
    "sorted_list = sorted(new_list, key=lambda k: k['count'], reverse=True) \n",
    "#sorted_list"
   ]
  },
  {
   "cell_type": "code",
   "execution_count": 53,
   "metadata": {},
   "outputs": [],
   "source": [
    "# select the first 10 most popular project themes\n",
    "\n",
    "first_10 = sorted_list[:10]\n",
    "#first_10\n"
   ]
  },
  {
   "cell_type": "code",
   "execution_count": 54,
   "metadata": {},
   "outputs": [],
   "source": [
    "# from the list with different project themes create a dataframe\n",
    "# change the order of columns\n",
    "\n",
    "table_1 = pd.DataFrame(first_10)\n",
    "table_2 = table_1.reindex(['code', 'name', 'count'], axis=1)\n",
    "#table_2"
   ]
  },
  {
   "cell_type": "code",
   "execution_count": 55,
   "metadata": {},
   "outputs": [],
   "source": [
    "# reset the index, start with 1\n",
    "\n",
    "table_3 = table_2\n",
    "table_3.index = table_3.index + 1\n",
    "#table_3"
   ]
  },
  {
   "cell_type": "code",
   "execution_count": 56,
   "metadata": {},
   "outputs": [
    {
     "data": {
      "text/html": [
       "<div>\n",
       "<style scoped>\n",
       "    .dataframe tbody tr th:only-of-type {\n",
       "        vertical-align: middle;\n",
       "    }\n",
       "\n",
       "    .dataframe tbody tr th {\n",
       "        vertical-align: top;\n",
       "    }\n",
       "\n",
       "    .dataframe thead th {\n",
       "        text-align: right;\n",
       "    }\n",
       "</style>\n",
       "<table border=\"1\" class=\"dataframe\">\n",
       "  <thead>\n",
       "    <tr style=\"text-align: right;\">\n",
       "      <th></th>\n",
       "      <th>code</th>\n",
       "      <th>project_theme</th>\n",
       "      <th>number_of_projects</th>\n",
       "    </tr>\n",
       "  </thead>\n",
       "  <tbody>\n",
       "    <tr>\n",
       "      <th>1</th>\n",
       "      <td>11</td>\n",
       "      <td>Environment and natural resources management</td>\n",
       "      <td>250</td>\n",
       "    </tr>\n",
       "    <tr>\n",
       "      <th>2</th>\n",
       "      <td>10</td>\n",
       "      <td>Rural development</td>\n",
       "      <td>216</td>\n",
       "    </tr>\n",
       "    <tr>\n",
       "      <th>3</th>\n",
       "      <td>8</td>\n",
       "      <td>Human development</td>\n",
       "      <td>210</td>\n",
       "    </tr>\n",
       "    <tr>\n",
       "      <th>4</th>\n",
       "      <td>2</td>\n",
       "      <td>Public sector governance</td>\n",
       "      <td>199</td>\n",
       "    </tr>\n",
       "    <tr>\n",
       "      <th>5</th>\n",
       "      <td>6</td>\n",
       "      <td>Social protection and risk management</td>\n",
       "      <td>168</td>\n",
       "    </tr>\n",
       "    <tr>\n",
       "      <th>6</th>\n",
       "      <td>4</td>\n",
       "      <td>Financial and private sector development</td>\n",
       "      <td>146</td>\n",
       "    </tr>\n",
       "    <tr>\n",
       "      <th>7</th>\n",
       "      <td>7</td>\n",
       "      <td>Social dev/gender/inclusion</td>\n",
       "      <td>130</td>\n",
       "    </tr>\n",
       "    <tr>\n",
       "      <th>8</th>\n",
       "      <td>5</td>\n",
       "      <td>Trade and integration</td>\n",
       "      <td>77</td>\n",
       "    </tr>\n",
       "    <tr>\n",
       "      <th>9</th>\n",
       "      <td>9</td>\n",
       "      <td>Urban development</td>\n",
       "      <td>50</td>\n",
       "    </tr>\n",
       "    <tr>\n",
       "      <th>10</th>\n",
       "      <td>1</td>\n",
       "      <td>Economic management</td>\n",
       "      <td>38</td>\n",
       "    </tr>\n",
       "  </tbody>\n",
       "</table>\n",
       "</div>"
      ],
      "text/plain": [
       "   code                                 project_theme  number_of_projects\n",
       "1    11  Environment and natural resources management                 250\n",
       "2    10                             Rural development                 216\n",
       "3     8                             Human development                 210\n",
       "4     2                      Public sector governance                 199\n",
       "5     6         Social protection and risk management                 168\n",
       "6     4      Financial and private sector development                 146\n",
       "7     7                   Social dev/gender/inclusion                 130\n",
       "8     5                         Trade and integration                  77\n",
       "9     9                             Urban development                  50\n",
       "10    1                           Economic management                  38"
      ]
     },
     "execution_count": 56,
     "metadata": {},
     "output_type": "execute_result"
    }
   ],
   "source": [
    "# change column names\n",
    "\n",
    "ten_project_themes = table_3.rename(columns={'name': 'project_theme', 'count': 'number_of_projects'})\n",
    "ten_project_themes"
   ]
  },
  {
   "cell_type": "code",
   "execution_count": 57,
   "metadata": {},
   "outputs": [
    {
     "data": {
      "image/png": "[encoded data removed]",
      "text/plain": [
       "<matplotlib.figure.Figure at 0x11343fc50>"
      ]
     },
     "metadata": {},
     "output_type": "display_data"
    }
   ],
   "source": [
    "# create a plot with the result\n",
    " \n",
    "# define y-axis\n",
    "y_pos = np.arange(len(ten_project_themes.project_theme))\n",
    "index_1 = y_pos[::-1]\n",
    "\n",
    "# create horizontal bars\n",
    "plt.barh(index_1, ten_project_themes.number_of_projects, color='green', align='center', alpha=0.7)\n",
    "\n",
    "# create names on the y-axis\n",
    "plt.yticks(index_1, ten_project_themes.project_theme)\n",
    "\n",
    "plt.title('10 most popular project themes') \n",
    "plt.xlabel('Frequency')\n",
    "plt.ylabel('Project theme')\n",
    "\n",
    "# set the limit on x-axis\n",
    "plt.xlim(0,260)\n",
    "\n",
    "# show graphic\n",
    "plt.show()"
   ]
  },
  {
   "cell_type": "code",
   "execution_count": null,
   "metadata": {},
   "outputs": [],
   "source": []
  }
 ],
 "metadata": {
  "kernelspec": {
   "display_name": "Python 3",
   "language": "python",
   "name": "python3"
  },
  "language_info": {
   "codemirror_mode": {
    "name": "ipython",
    "version": 3
   },
   "file_extension": ".py",
   "mimetype": "text/x-python",
   "name": "python",
   "nbconvert_exporter": "python",
   "pygments_lexer": "ipython3",
   "version": "3.6.4"
  }
 },
 "nbformat": 4,
 "nbformat_minor": 2
}
